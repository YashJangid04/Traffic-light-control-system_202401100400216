{
  "nbformat": 4,
  "nbformat_minor": 0,
  "metadata": {
    "colab": {
      "provenance": []
    },
    "kernelspec": {
      "name": "python3",
      "display_name": "Python 3"
    },
    "language_info": {
      "name": "python"
    }
  },
  "cells": [
    {
      "cell_type": "markdown",
      "source": [
        "Ok , TITLE : Traffic Light Control System"
      ],
      "metadata": {
        "id": "Bw5UHBB4NRda"
      }
    },
    {
      "cell_type": "markdown",
      "source": [
        "Importing all libs that I might need."
      ],
      "metadata": {
        "id": "sq6WdDHbN594"
      }
    },
    {
      "cell_type": "code",
      "source": [
        "import random\n",
        "import time\n"
      ],
      "metadata": {
        "id": "nKYFlnomO0ig"
      },
      "execution_count": 9,
      "outputs": []
    },
    {
      "cell_type": "markdown",
      "source": [],
      "metadata": {
        "id": "77-sdJLtNQ2K"
      }
    },
    {
      "cell_type": "code",
      "source": [
        "def simulate_traffic(road1_cars, road2_cars, road1On, max_cars=20):\n",
        "    \"\"\"Simulates traffic flow with gradual changes and a maximum limit.\"\"\"\n",
        "    if road1On:\n",
        "        road2_cars += random.randint(-2, 2)\n",
        "        road1_cars = random.randint(-1, 2)\n",
        "    else:\n",
        "        road2_cars = random.randint(-1, 3)\n",
        "        road1_cars += random.randint(-2, 2)\n",
        "\n",
        "    road1_cars = max(0, min(road1_cars, max_cars))\n",
        "    road2_cars = max(0, min(road2_cars, max_cars))\n",
        "\n",
        "    return road1_cars, road2_cars"
      ],
      "metadata": {
        "id": "WE1M50BuPwtt"
      },
      "execution_count": 40,
      "outputs": []
    },
    {
      "cell_type": "markdown",
      "source": [
        "working with a threshold ,unless the threshold is reached we will normally change the traffic lights . with time ."
      ],
      "metadata": {
        "id": "Y9QRiEhERrTt"
      }
    },
    {
      "cell_type": "code",
      "source": [
        "def ai_control(road1_cars, road2_cars, road1On, road1_green_count=0, road2_green_count=0, threshold=3):\n",
        "    \"\"\"Controls traffic lights, switching after 2 consecutive greens and clearing most cars.\"\"\"\n",
        "    if road1_cars > road2_cars + threshold and road1_green_count < 2:\n",
        "        road1_green_count += 1\n",
        "        road2_green_count = 0\n",
        "        return \"road1_green\", road1_green_count, road2_green_count  # Return counts as well\n",
        "    elif road2_cars > road1_cars + threshold and road2_green_count < 2:\n",
        "        road2_green_count += 1\n",
        "        road1_green_count = 0\n",
        "        return \"road2_green\", road1_green_count, road2_green_count  # Return counts as well\n",
        "    else:\n",
        "        # Switch light after 2 consecutive greens or if traffic is relatively equal\n",
        "        if road1_green_count >= 2:\n",
        "            road1_green_count = 0\n",
        "            road2_green_count = 1\n",
        "            return \"road2_green\", road1_green_count, road2_green_count  # Return counts\n",
        "        elif road2_green_count >= 2:\n",
        "            road2_green_count = 0\n",
        "            road1_green_count = 1\n",
        "            return \"road1_green\", road1_green_count, road2_green_count  # Return counts\n",
        "        else:  # If traffic is relatively equal, alternate the light\n",
        "            road1_green_count, road2_green_count = (1, 0) if road1On else (0, 1)\n",
        "            return \"road1_green\" if road1On else \"road2_green\", road1_green_count, road2_green_count\n"
      ],
      "metadata": {
        "id": "IZGBFNXfQo3e"
      },
      "execution_count": 43,
      "outputs": []
    },
    {
      "cell_type": "code",
      "source": [
        "# Initialize traffic conditions\n",
        "road1_cars = 5\n",
        "road2_cars = 5\n",
        "road1On = True\n",
        "road1_green_count = 0\n",
        "road2_green_count = 0\n",
        "\n",
        "# Start the simulation loop\n",
        "while True:\n",
        "    road1_cars, road2_cars = simulate_traffic(road1_cars, road2_cars, road1On)\n",
        "    light_status, road1_green_count, road2_green_count = ai_control(road1_cars, road2_cars, road1On, road1_green_count, road2_green_count)  # Update counts\n",
        "    road1On = not road1On if light_status == \"road2_green\" else road1On\n",
        "\n",
        "    print(f\"Road1 cars: {road1_cars}, Road2 cars: {road2_cars}, Light status: {light_status}\")\n",
        "\n",
        "    # Clear most cars when the light turns green\n",
        "    if light_status == \"road1_green\":\n",
        "        road1_cars = random.randint(0, 2)    # Clear 3 to all cars\n",
        "    else:  # light_status == \"road2_green\"\n",
        "        road2_cars = random.randint(0, 2)   # Clear 3 to all cars\n",
        "\n",
        "\n",
        "    time.sleep(2)  # Simulate time passing"
      ],
      "metadata": {
        "colab": {
          "base_uri": "https://localhost:8080/",
          "height": 471
        },
        "id": "n_ctkz4nQsd5",
        "outputId": "5c3c8e95-5554-411b-ffe9-cf18d01ce15b"
      },
      "execution_count": 45,
      "outputs": [
        {
          "output_type": "stream",
          "name": "stdout",
          "text": [
            "Road1 cars: 0, Road2 cars: 4, Light status: road2_green\n",
            "Road1 cars: 0, Road2 cars: 1, Light status: road2_green\n",
            "Road1 cars: 2, Road2 cars: 1, Light status: road1_green\n",
            "Road1 cars: 1, Road2 cars: 2, Light status: road1_green\n",
            "Road1 cars: 0, Road2 cars: 4, Light status: road2_green\n",
            "Road1 cars: 0, Road2 cars: 3, Light status: road2_green\n",
            "Road1 cars: 0, Road2 cars: 3, Light status: road1_green\n",
            "Road1 cars: 2, Road2 cars: 3, Light status: road1_green\n",
            "Road1 cars: 1, Road2 cars: 2, Light status: road1_green\n",
            "Road1 cars: 1, Road2 cars: 2, Light status: road1_green\n",
            "Road1 cars: 0, Road2 cars: 4, Light status: road2_green\n",
            "Road1 cars: 0, Road2 cars: 1, Light status: road2_green\n",
            "Road1 cars: 1, Road2 cars: 0, Light status: road1_green\n",
            "Road1 cars: 0, Road2 cars: 1, Light status: road1_green\n",
            "Road1 cars: 2, Road2 cars: 0, Light status: road1_green\n",
            "Road1 cars: 1, Road2 cars: 2, Light status: road1_green\n",
            "Road1 cars: 2, Road2 cars: 2, Light status: road1_green\n"
          ]
        },
        {
          "output_type": "error",
          "ename": "KeyboardInterrupt",
          "evalue": "",
          "traceback": [
            "\u001b[0;31m---------------------------------------------------------------------------\u001b[0m",
            "\u001b[0;31mKeyboardInterrupt\u001b[0m                         Traceback (most recent call last)",
            "\u001b[0;32m<ipython-input-45-20be19c835a5>\u001b[0m in \u001b[0;36m<cell line: 0>\u001b[0;34m()\u001b[0m\n\u001b[1;32m     21\u001b[0m \u001b[0;34m\u001b[0m\u001b[0m\n\u001b[1;32m     22\u001b[0m \u001b[0;34m\u001b[0m\u001b[0m\n\u001b[0;32m---> 23\u001b[0;31m     \u001b[0mtime\u001b[0m\u001b[0;34m.\u001b[0m\u001b[0msleep\u001b[0m\u001b[0;34m(\u001b[0m\u001b[0;36m2\u001b[0m\u001b[0;34m)\u001b[0m  \u001b[0;31m# Simulate time passing\u001b[0m\u001b[0;34m\u001b[0m\u001b[0;34m\u001b[0m\u001b[0m\n\u001b[0m",
            "\u001b[0;31mKeyboardInterrupt\u001b[0m: "
          ]
        }
      ]
    }
  ]
}